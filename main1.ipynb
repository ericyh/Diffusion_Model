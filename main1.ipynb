{
 "cells": [
  {
   "cell_type": "code",
   "execution_count": 1,
   "metadata": {},
   "outputs": [],
   "source": [
    "from modules1 import *\n",
    "from torch.optim import Adam\n",
    "from  tqdm.notebook import tqdm\n",
    "import matplotlib.animation as animation\n",
    "import imageio\n",
    "import matplotlib.pyplot as plt\n",
    "import torchvision\n",
    "from torch.utils.data import Dataset, DataLoader\n",
    "import torchvision.transforms as transforms\n",
    "from torch. optim.lr_scheduler import ExponentialLR\n"
   ]
  },
  {
   "cell_type": "code",
   "execution_count": 2,
   "metadata": {},
   "outputs": [],
   "source": [
    "batch_size = 275\n",
    "dataset = torchvision.datasets.FashionMNIST(root=\"C:/Users/ericy/Downloads\", train = True, download = True, transform=transforms.Compose([\n",
    "            transforms.RandomHorizontalFlip(),\n",
    "            transforms.ToTensor(),\n",
    "            transforms.Lambda(lambda t: (t * 2) - 1)\n",
    "]))\n",
    "loader = DataLoader(dataset=dataset, batch_size=batch_size, shuffle=True)"
   ]
  },
  {
   "cell_type": "code",
   "execution_count": 3,
   "metadata": {},
   "outputs": [],
   "source": [
    "device = \"cuda:1\"\n",
    "\n",
    "model = Unet(time_dim=200, dims=((16, 64),(64,128)), channels=1, device = device)\n",
    "model = model.to(device)"
   ]
  },
  {
   "cell_type": "code",
   "execution_count": 4,
   "metadata": {},
   "outputs": [],
   "source": [
    "class schedule():\n",
    "    def __init__(self, timesteps = 200, device=\"cuda\"):\n",
    "        self.device = device\n",
    "        betas = beta_schedule(timesteps=timesteps, device = device)\n",
    "        alphas = 1. - betas\n",
    "        alphas_cumprod = torch.cumprod(alphas, axis=0)\n",
    "        alphas_cumprod_prev = F.pad(alphas_cumprod[:-1], (1, 0), value=1.0)\n",
    "        self.betas = betas\n",
    "        self.sqrt_recip_alphas = torch.sqrt(1.0 / alphas)\n",
    "        self.sqrt_alphas_cumprod = torch.sqrt(alphas_cumprod)\n",
    "        self.sqrt_one_minus_alphas_cumprod = torch.sqrt(1. - alphas_cumprod)\n",
    "        self.posterior_variance = betas * (1. - alphas_cumprod_prev) / (1. - alphas_cumprod)\n",
    "    def add_noise(self, x,t):\n",
    "        noise = torch.randn_like(x, device = self.device)\n",
    "        A = torch.index_select(self.sqrt_alphas_cumprod, 0, t)\n",
    "        B = torch.index_select(self.sqrt_one_minus_alphas_cumprod, 0, t)\n",
    "        x = x.permute(1,2,3,0)\n",
    "        noise_permuted = noise.permute(1,2,3,0)\n",
    "        C = (A * x + B * noise_permuted).permute(3,0,1,2)\n",
    "        return C, noise\n",
    "    def loss(self, model, x0, t):\n",
    "        xt, noise = self.add_noise(x0,t)\n",
    "        pred = model(xt, t)\n",
    "        loss = nn.MSELoss()(noise, pred)\n",
    "        return loss\n",
    "    \n",
    "    @torch.no_grad()\n",
    "    def sample(self, model, device, time_steps):\n",
    "        M = np.zeros((time_steps, 28, 28, 1))\n",
    "        img = torch.randn((1, 1, 28, 28), device=device)*0.5\n",
    "        for t in range(0,time_steps)[::-1]:\n",
    "            model_mean = self.sqrt_recip_alphas[t] * (img - self.betas[t] * model(img, torch.unsqueeze(torch.tensor(t,device = device), dim=0)) / self.sqrt_one_minus_alphas_cumprod[t])\n",
    "            noise = torch.randn_like(model_mean)\n",
    "            img = model_mean + torch.sqrt(self.posterior_variance[t]) * noise\n",
    "            out = (img[0].detach().cpu().permute(1,2,0)*0.5 + 0.5)*255\n",
    "            M[t] = out.numpy().astype(np.uint8)\n",
    "        return np.flip(M, axis = 0)\n"
   ]
  },
  {
   "cell_type": "code",
   "execution_count": 5,
   "metadata": {},
   "outputs": [],
   "source": [
    "time_steps = 200\n",
    "S = schedule(time_steps, device)"
   ]
  },
  {
   "cell_type": "code",
   "execution_count": null,
   "metadata": {},
   "outputs": [
    {
     "data": {
      "application/vnd.jupyter.widget-view+json": {
       "model_id": "2677253b6bd44c87b32e404e9fe50652",
       "version_major": 2,
       "version_minor": 0
      },
      "text/plain": [
       "Epoch:   0%|          | 0/1000 [00:00<?, ?it/s]"
      ]
     },
     "metadata": {},
     "output_type": "display_data"
    },
    {
     "data": {
      "application/vnd.jupyter.widget-view+json": {
       "model_id": "105c0b7c62a74385a355d1191f42d0d5",
       "version_major": 2,
       "version_minor": 0
      },
      "text/plain": [
       "Batch:   0%|          | 0/219 [00:00<?, ?it/s]"
      ]
     },
     "metadata": {},
     "output_type": "display_data"
    },
    {
     "name": "stdout",
     "output_type": "stream",
     "text": [
      "Epoch: 0 Loss: 0.42243826389312744\n"
     ]
    },
    {
     "data": {
      "application/vnd.jupyter.widget-view+json": {
       "model_id": "7b8ac5b53d474f9ea24d956920bd2758",
       "version_major": 2,
       "version_minor": 0
      },
      "text/plain": [
       "Batch:   0%|          | 0/219 [00:00<?, ?it/s]"
      ]
     },
     "metadata": {},
     "output_type": "display_data"
    },
    {
     "name": "stdout",
     "output_type": "stream",
     "text": [
      "Epoch: 1 Loss: 0.36524900794029236\n"
     ]
    },
    {
     "data": {
      "application/vnd.jupyter.widget-view+json": {
       "model_id": "ba218d228c1d4bca841827e6e1929562",
       "version_major": 2,
       "version_minor": 0
      },
      "text/plain": [
       "Batch:   0%|          | 0/219 [00:00<?, ?it/s]"
      ]
     },
     "metadata": {},
     "output_type": "display_data"
    },
    {
     "name": "stdout",
     "output_type": "stream",
     "text": [
      "Epoch: 2 Loss: 0.36237674951553345\n"
     ]
    },
    {
     "data": {
      "application/vnd.jupyter.widget-view+json": {
       "model_id": "6b4f482d7cd4496f8a090f86c1e2faf1",
       "version_major": 2,
       "version_minor": 0
      },
      "text/plain": [
       "Batch:   0%|          | 0/219 [00:00<?, ?it/s]"
      ]
     },
     "metadata": {},
     "output_type": "display_data"
    },
    {
     "name": "stdout",
     "output_type": "stream",
     "text": [
      "Epoch: 3 Loss: 0.36971208453178406\n"
     ]
    },
    {
     "data": {
      "application/vnd.jupyter.widget-view+json": {
       "model_id": "5fec564f32b44ba9afcfae273f668b7a",
       "version_major": 2,
       "version_minor": 0
      },
      "text/plain": [
       "Batch:   0%|          | 0/219 [00:00<?, ?it/s]"
      ]
     },
     "metadata": {},
     "output_type": "display_data"
    },
    {
     "name": "stdout",
     "output_type": "stream",
     "text": [
      "Epoch: 4 Loss: 0.3639644384384155\n"
     ]
    },
    {
     "data": {
      "application/vnd.jupyter.widget-view+json": {
       "model_id": "b6f80c05b14140429237de2b4588dc77",
       "version_major": 2,
       "version_minor": 0
      },
      "text/plain": [
       "Batch:   0%|          | 0/219 [00:00<?, ?it/s]"
      ]
     },
     "metadata": {},
     "output_type": "display_data"
    },
    {
     "name": "stdout",
     "output_type": "stream",
     "text": [
      "Epoch: 5 Loss: 0.3624126613140106\n"
     ]
    },
    {
     "data": {
      "application/vnd.jupyter.widget-view+json": {
       "model_id": "7c5db7cf495345ee8f9d4d7b2f75a324",
       "version_major": 2,
       "version_minor": 0
      },
      "text/plain": [
       "Batch:   0%|          | 0/219 [00:00<?, ?it/s]"
      ]
     },
     "metadata": {},
     "output_type": "display_data"
    },
    {
     "name": "stdout",
     "output_type": "stream",
     "text": [
      "Epoch: 6 Loss: 0.37481680512428284\n"
     ]
    },
    {
     "data": {
      "application/vnd.jupyter.widget-view+json": {
       "model_id": "ee30d5b0e68b45ca9344dd6b0133fd20",
       "version_major": 2,
       "version_minor": 0
      },
      "text/plain": [
       "Batch:   0%|          | 0/219 [00:00<?, ?it/s]"
      ]
     },
     "metadata": {},
     "output_type": "display_data"
    },
    {
     "name": "stdout",
     "output_type": "stream",
     "text": [
      "Epoch: 7 Loss: 0.3579775094985962\n"
     ]
    },
    {
     "data": {
      "application/vnd.jupyter.widget-view+json": {
       "model_id": "f50e2038dc5b4ce38ac21c3e88079169",
       "version_major": 2,
       "version_minor": 0
      },
      "text/plain": [
       "Batch:   0%|          | 0/219 [00:00<?, ?it/s]"
      ]
     },
     "metadata": {},
     "output_type": "display_data"
    },
    {
     "name": "stdout",
     "output_type": "stream",
     "text": [
      "Epoch: 8 Loss: 0.367175430059433\n"
     ]
    }
   ],
   "source": [
    "optimizer = Adam(model.parameters(), lr=0.001)\n",
    "scheduler = ExponentialLR(optimizer, gamma=0.997)\n",
    "\n",
    "epochs = 1000\n",
    "L = []\n",
    "\n",
    "for epoch in tqdm(range(epochs), desc=\"Epoch\", position=0):\n",
    "    for step, (batch, _) in enumerate(tqdm(loader, desc=\"Batch\", position=1, leave=False)):\n",
    "        optimizer.zero_grad()\n",
    "        batch = batch.to(device)\n",
    "        t = torch.randint(0, time_steps, (len(batch),), device=device).long()\n",
    "        loss = S.loss(model, batch, t)\n",
    "        loss.backward()\n",
    "        optimizer.step()\n",
    "        scheduler.step\n",
    "        L.append(loss.detach().cpu())\n",
    "        if epoch % 1 == 0 and  step == 0:\n",
    "            M = np.squeeze(S.sample(model, device, time_steps),axis=3).astype(np.uint8)\n",
    "            imageio.mimwrite(\"animations0/output\" + str(epoch) + \".gif\", M, 'GIF', duration = 0.04)\n",
    "            print(\"Epoch:\", epoch, \"Loss:\", loss.item())"
   ]
  },
  {
   "cell_type": "code",
   "execution_count": null,
   "metadata": {},
   "outputs": [],
   "source": [
    "M = np.squeeze(S.sample(model, device, time_steps),axis=3).astype(np.uint8)\n",
    "imageio.mimwrite(\"output4.gif\", M[::10], 'GIF')"
   ]
  }
 ],
 "metadata": {
  "kernelspec": {
   "display_name": "machine_learning",
   "language": "python",
   "name": "python3"
  },
  "language_info": {
   "codemirror_mode": {
    "name": "ipython",
    "version": 3
   },
   "file_extension": ".py",
   "mimetype": "text/x-python",
   "name": "python",
   "nbconvert_exporter": "python",
   "pygments_lexer": "ipython3",
   "version": "3.12.7"
  }
 },
 "nbformat": 4,
 "nbformat_minor": 2
}
