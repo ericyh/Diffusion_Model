{
 "cells": [
  {
   "cell_type": "code",
   "execution_count": 9,
   "metadata": {},
   "outputs": [],
   "source": [
    "from modules import Unet\n",
    "import torch\n",
    "import torch.nn as nn\n",
    "import math\n",
    "import matplotlib.pyplot as plt\n",
    "import torch.nn.functional as F\n",
    "import cv2"
   ]
  },
  {
   "cell_type": "code",
   "execution_count": 10,
   "metadata": {},
   "outputs": [
    {
     "name": "stdout",
     "output_type": "stream",
     "text": [
      "torch.Size([10, 5, 24, 24])\n",
      "torch.Size([10, 6, 12, 12])\n",
      "torch.Size([10, 6, 12, 12])\n",
      "torch.Size([10, 8, 6, 6])\n",
      "torch.Size([10, 8, 6, 6])\n",
      "torch.Size([10, 6, 12, 12])\n",
      "torch.Size([10, 6, 12, 12])\n",
      "torch.Size([10, 5, 24, 24])\n"
     ]
    }
   ],
   "source": [
    "A = Unet(10, [(5,6), (6,8)])\n",
    "A(torch.ones((10,3,24, 24)), torch.arange(10))"
   ]
  }
 ],
 "metadata": {
  "kernelspec": {
   "display_name": "machine_learning",
   "language": "python",
   "name": "python3"
  },
  "language_info": {
   "codemirror_mode": {
    "name": "ipython",
    "version": 3
   },
   "file_extension": ".py",
   "mimetype": "text/x-python",
   "name": "python",
   "nbconvert_exporter": "python",
   "pygments_lexer": "ipython3",
   "version": "3.12.7"
  }
 },
 "nbformat": 4,
 "nbformat_minor": 2
}
