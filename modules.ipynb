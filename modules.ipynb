{
 "cells": [
  {
   "cell_type": "code",
   "execution_count": 217,
   "metadata": {},
   "outputs": [],
   "source": [
    "import torch\n",
    "import torch.nn as nn\n",
    "import math\n",
    "import matplotlib.pyplot as plt\n",
    "import torch.nn.functional as F\n",
    "import cv2"
   ]
  },
  {
   "cell_type": "code",
   "execution_count": 109,
   "metadata": {},
   "outputs": [],
   "source": [
    "class SinusoidalPositionEmbeddings(nn.Module):\n",
    "    def __init__(self, d):\n",
    "        super().__init__()\n",
    "        self.d = d\n",
    "\n",
    "    def forward(self, time):\n",
    "        i = torch.arange(self.d)\n",
    "        even = 1/2*(1-(-1)**i)\n",
    "        odd = 1/2*(1+(-1)**i)\n",
    "        x = 1/torch.exp(math.log(10000) * ((i - i%2) / self.d))\n",
    "        x = time[:, None] * x[None, :]\n",
    "        x = torch.sin(even*x) + torch.cos(odd*x)\n",
    "        return x"
   ]
  },
  {
   "cell_type": "code",
   "execution_count": 110,
   "metadata": {},
   "outputs": [],
   "source": [
    "class Block(nn.Module):\n",
    "    def __init__(self, in_dim, out_dim):\n",
    "        super().__init__()\n",
    "        self.layers = nn.Sequential(\n",
    "            nn.Conv2d(in_dim, out_dim, 3, padding = 1),\n",
    "            nn.BatchNorm2d(out_dim),\n",
    "            nn.SiLU(),\n",
    "        )\n",
    "    def forward(self, x):\n",
    "        x = self.layers(x)\n",
    "        return x"
   ]
  },
  {
   "cell_type": "code",
   "execution_count": 111,
   "metadata": {},
   "outputs": [],
   "source": [
    "class ResnetBlock(nn.Module):    \n",
    "    def __init__(self, dim_in, dim_out, time_dim):\n",
    "        super().__init__()\n",
    "        self.time = nn.Linear(time_dim, dim_out)\n",
    "        self.block1 = Block(dim_in, dim_out)\n",
    "        self.block2 = Block(dim_out, dim_out)\n",
    "\n",
    "    def forward(self, x, t):\n",
    "        x = self.block1(x)\n",
    "        x = torch.unsqueeze(torch.unsqueeze(self.time(t),-1),-1) + x\n",
    "        x = self.block2(x)\n",
    "        return x"
   ]
  },
  {
   "cell_type": "code",
   "execution_count": 190,
   "metadata": {},
   "outputs": [],
   "source": [
    "class Unet(nn.Module):\n",
    "    def __init__ (self, time_dim, dims, channels=3):\n",
    "        super().__init__()\n",
    "\n",
    "        self.time_embed = nn.Sequential(\n",
    "                SinusoidalPositionEmbeddings(time_dim),\n",
    "                nn.Linear(time_dim, 4*time_dim),\n",
    "                nn.GELU(),\n",
    "                nn.Linear(4*time_dim, 4*time_dim),\n",
    "            )\n",
    "        \n",
    "        self.init_block = Block(channels, dims[0][0])\n",
    "        self.encoder = nn.ModuleList([])\n",
    "        self.mid_block = Block(dims[-1][-1], dims[-1][-1])\n",
    "        self.decoder = nn.ModuleList([])\n",
    "        self.final_block = Block(dims[0][0], channels)\n",
    "\n",
    "        for (dim_in, dim_out) in dims:\n",
    "            self.encoder.append(nn.ModuleList([\n",
    "                ResnetBlock(dim_in, dim_out, 4*time_dim),\n",
    "                ResnetBlock(dim_out, dim_out, 4*time_dim),\n",
    "                nn.Conv2d(dim_out,dim_out, 4, 2, 1)\n",
    "            ]))\n",
    "        for (dim_in, dim_out) in reversed(dims):\n",
    "            self.decoder.append(nn.ModuleList([\n",
    "                ResnetBlock(2*dim_out, dim_in, 4*time_dim),\n",
    "                ResnetBlock(dim_in, dim_in, 4*time_dim),\n",
    "                nn.ConvTranspose2d(dim_out, dim_out, 4, 2, 1)\n",
    "            ]))\n",
    "        \n",
    "    def forward(self, x, t):\n",
    "        x = self.init_block(x)\n",
    "        t = self.time_embed(t)\n",
    "        res = []\n",
    "        for B1, B2, downsample in self.encoder:\n",
    "            print(x.shape)\n",
    "            x = B1(x, t)\n",
    "            x = B2(x, t)\n",
    "            res.append(x)\n",
    "            x = downsample(x)\n",
    "            print(x.shape)\n",
    "        x = self.mid_block(x)\n",
    "        for B1, B2, upsample in self.decoder:\n",
    "            print(x.shape)\n",
    "            x = upsample(x)\n",
    "            x = torch.cat((x, res.pop()), dim=1)\n",
    "            x = B1(x, t)\n",
    "            x = B2(x, t)\n",
    "            print(x.shape)\n",
    "        x = self.final_block(x)"
   ]
  },
  {
   "cell_type": "code",
   "execution_count": 200,
   "metadata": {},
   "outputs": [],
   "source": [
    "def beta_schedule(timesteps, s=0.008):\n",
    "    # from https://colab.research.google.com/github/huggingface/notebooks/blob/main/examples/annotated_diffusion.ipynb#scrollTo=5d751df2\n",
    "    steps = timesteps + 1\n",
    "    x = torch.linspace(0, timesteps, steps)\n",
    "    alphas_cumprod = torch.cos(((x / timesteps) + s) / (1 + s) * torch.pi * 0.5) ** 2\n",
    "    alphas_cumprod = alphas_cumprod / alphas_cumprod[0]\n",
    "    betas = 1 - (alphas_cumprod[1:] / alphas_cumprod[:-1])\n",
    "    return torch.clip(betas, 0.0001, 0.9999)\n",
    "\n",
    "timesteps = 200\n",
    "betas = beta_schedule(timesteps=timesteps)\n",
    "alphas = 1. - betas\n",
    "alphas_cumprod = torch.cumprod(alphas, axis=0)\n",
    "alphas_cumprod_prev = F.pad(alphas_cumprod[:-1], (1, 0), value=1.0)\n",
    "sqrt_recip_alphas = torch.sqrt(1.0 / alphas)\n",
    "sqrt_alphas_cumprod = torch.sqrt(alphas_cumprod)\n",
    "sqrt_one_minus_alphas_cumprod = torch.sqrt(1. - alphas_cumprod)\n",
    "posterior_variance = betas * (1. - alphas_cumprod_prev) / (1. - alphas_cumprod)"
   ]
  },
  {
   "cell_type": "code",
   "execution_count": 281,
   "metadata": {},
   "outputs": [],
   "source": [
    "def add_noise(x):\n",
    "    noise = torch.randn_like(x)\n",
    "    return sqrt_alphas_cumprod * x + sqrt_one_minus_alphas_cumprod * noise"
   ]
  }
 ],
 "metadata": {
  "kernelspec": {
   "display_name": "machine_learning",
   "language": "python",
   "name": "python3"
  },
  "language_info": {
   "codemirror_mode": {
    "name": "ipython",
    "version": 3
   },
   "file_extension": ".py",
   "mimetype": "text/x-python",
   "name": "python",
   "nbconvert_exporter": "python",
   "pygments_lexer": "ipython3",
   "version": "3.12.7"
  }
 },
 "nbformat": 4,
 "nbformat_minor": 2
}
